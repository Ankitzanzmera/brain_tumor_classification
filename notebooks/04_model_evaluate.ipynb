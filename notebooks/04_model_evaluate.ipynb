{
 "cells": [
  {
   "cell_type": "code",
   "execution_count": 1,
   "metadata": {},
   "outputs": [
    {
     "data": {
      "text/plain": [
       "'f:\\\\ml projects\\\\brain_tumor_classification\\\\notebooks'"
      ]
     },
     "execution_count": 1,
     "metadata": {},
     "output_type": "execute_result"
    }
   ],
   "source": [
    "import os\n",
    "%pwd"
   ]
  },
  {
   "cell_type": "code",
   "execution_count": 2,
   "metadata": {},
   "outputs": [
    {
     "data": {
      "text/plain": [
       "'f:\\\\ml projects\\\\brain_tumor_classification'"
      ]
     },
     "execution_count": 2,
     "metadata": {},
     "output_type": "execute_result"
    }
   ],
   "source": [
    "os.chdir(\"../\")\n",
    "%pwd"
   ]
  },
  {
   "cell_type": "code",
   "execution_count": 3,
   "metadata": {},
   "outputs": [],
   "source": [
    "from dataclasses import dataclass\n",
    "from pathlib import Path\n",
    "\n",
    "\n",
    "@dataclass(frozen=True)\n",
    "class ModelEvaluateConfig:\n",
    "    path_of_model:Path\n",
    "    test_data_path:Path\n",
    "    params_batch_size:int\n",
    "    params_image_size:list"
   ]
  },
  {
   "cell_type": "code",
   "execution_count": 4,
   "metadata": {},
   "outputs": [],
   "source": [
    "from brain_tumor_classification.constants import *\n",
    "from brain_tumor_classification.utils.common import create_directories,read_yaml\n",
    "import os"
   ]
  },
  {
   "cell_type": "code",
   "execution_count": 5,
   "metadata": {},
   "outputs": [],
   "source": [
    "class ConfigurationManager:\n",
    "    def __init__(self,config_filepath = CONFIG_FILEPATH,params_filepath = PARAMS_FILEPATH) -> None:\n",
    "        self.config = read_yaml(config_filepath)\n",
    "        self.params = read_yaml(params_filepath)\n",
    "\n",
    "        create_directories([self.config.artifacts_root])\n",
    "\n",
    "    def get_model_evaluate_config(self) -> ModelEvaluateConfig:\n",
    "\n",
    "        test_data_path = os.path.join(self.config.data_ingestion.unzip_dir,\"brain_tumor_mris\",\"Testing\")\n",
    "        model_evaluate_config = ModelEvaluateConfig(\n",
    "            path_of_model= Path(self.config.model_training.trained_model_path),\n",
    "            test_data_path= Path(test_data_path),\n",
    "            params_batch_size= self.params.BATCH_SIZE,\n",
    "            params_image_size= self.params.IMAGE_SIZE\n",
    "        )\n",
    "        return model_evaluate_config"
   ]
  },
  {
   "cell_type": "code",
   "execution_count": 6,
   "metadata": {},
   "outputs": [
    {
     "name": "stdout",
     "output_type": "stream",
     "text": [
      "WARNING:tensorflow:From f:\\ml projects\\brain_tumor_classification\\venv\\lib\\site-packages\\keras\\src\\losses.py:2976: The name tf.losses.sparse_softmax_cross_entropy is deprecated. Please use tf.compat.v1.losses.sparse_softmax_cross_entropy instead.\n",
      "\n"
     ]
    }
   ],
   "source": [
    "import tensorflow as tf\n",
    "from brain_tumor_classification.utils.common import save_json"
   ]
  },
  {
   "cell_type": "code",
   "execution_count": 13,
   "metadata": {},
   "outputs": [],
   "source": [
    "class ModelEvaluate:\n",
    "    def __init__(self,config:ModelEvaluateConfig) -> None:\n",
    "        self.config = config\n",
    "\n",
    "    @property\n",
    "    def load_model(self) -> tf.keras.models:\n",
    "        return tf.keras.models.load_model(self.config.path_of_model)\n",
    "    \n",
    "    def train_generator(self):\n",
    "        test_datagenerator = tf.keras.preprocessing.image.ImageDataGenerator(\n",
    "            rescale = 1./255\n",
    "        )\n",
    "        test_data = test_datagenerator.flow_from_directory(\n",
    "            directory = self.config.test_data_path,\n",
    "            target_size = self.config.params_image_size[:-1],\n",
    "            batch_size = self.config.params_batch_size,\n",
    "            class_mode = \"categorical\"\n",
    "        )\n",
    "        return test_data\n",
    "    \n",
    "    def evaluate(self):\n",
    "        self.model = self.load_model\n",
    "        test_data = self.train_generator()\n",
    "        self.score = self.model.evaluate(test_data)\n",
    "\n",
    "    def save_score(self):\n",
    "        score = {\"Loss\":self.score[0],\"Accuracy\":self.score[1]}\n",
    "        save_json(path = Path(\"scores.json\"),data = score)\n",
    "\n"
   ]
  },
  {
   "cell_type": "code",
   "execution_count": 14,
   "metadata": {},
   "outputs": [
    {
     "name": "stdout",
     "output_type": "stream",
     "text": [
      "Found 576 images belonging to 4 classes.\n",
      "WARNING:tensorflow:From f:\\ml projects\\brain_tumor_classification\\venv\\lib\\site-packages\\keras\\src\\utils\\tf_utils.py:492: The name tf.ragged.RaggedTensorValue is deprecated. Please use tf.compat.v1.ragged.RaggedTensorValue instead.\n",
      "\n",
      "18/18 [==============================] - 350s 19s/step - loss: 0.1703 - accuracy: 0.9323\n"
     ]
    }
   ],
   "source": [
    "try:\n",
    "    config = ConfigurationManager()\n",
    "    model_evaluate_config = config.get_model_evaluate_config()\n",
    "    model_evaluate = ModelEvaluate(config=model_evaluate_config)\n",
    "    model_evaluate.evaluate()\n",
    "    model_evaluate.save_score()\n",
    "except Exception as e:\n",
    "    raise e"
   ]
  },
  {
   "cell_type": "code",
   "execution_count": null,
   "metadata": {},
   "outputs": [],
   "source": []
  }
 ],
 "metadata": {
  "kernelspec": {
   "display_name": "Python 3",
   "language": "python",
   "name": "python3"
  },
  "language_info": {
   "codemirror_mode": {
    "name": "ipython",
    "version": 3
   },
   "file_extension": ".py",
   "mimetype": "text/x-python",
   "name": "python",
   "nbconvert_exporter": "python",
   "pygments_lexer": "ipython3",
   "version": "3.9.18"
  }
 },
 "nbformat": 4,
 "nbformat_minor": 2
}
