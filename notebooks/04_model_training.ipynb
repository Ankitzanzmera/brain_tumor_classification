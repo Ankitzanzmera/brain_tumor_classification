{
 "cells": [
  {
   "cell_type": "code",
   "execution_count": 1,
   "metadata": {},
   "outputs": [
    {
     "data": {
      "text/plain": [
       "'f:\\\\ml projects\\\\brain_tumor_classification\\\\notebooks'"
      ]
     },
     "execution_count": 1,
     "metadata": {},
     "output_type": "execute_result"
    }
   ],
   "source": [
    "import os\n",
    "%pwd"
   ]
  },
  {
   "cell_type": "code",
   "execution_count": 2,
   "metadata": {},
   "outputs": [
    {
     "data": {
      "text/plain": [
       "'f:\\\\ml projects\\\\brain_tumor_classification'"
      ]
     },
     "execution_count": 2,
     "metadata": {},
     "output_type": "execute_result"
    }
   ],
   "source": [
    "os.chdir(\"../\")\n",
    "%pwd"
   ]
  },
  {
   "cell_type": "code",
   "execution_count": 3,
   "metadata": {},
   "outputs": [],
   "source": [
    "from dataclasses import dataclass\n",
    "from pathlib import Path\n",
    "\n",
    "@dataclass(frozen=True)\n",
    "class ModelTrainingConfig:\n",
    "    root_dir: Path\n",
    "    trained_model_path: Path\n",
    "    updated_base_model:Path\n",
    "    training_data:Path\n",
    "    validation_data:Path\n",
    "    params_is_augmentation:bool\n",
    "    params_image_size: list\n",
    "    params_batch_size: int\n",
    "    params_epochs: int\n",
    "\n",
    "@dataclass(frozen=True)\n",
    "class PrepareCallbackConfig:\n",
    "    root_dir:Path\n",
    "    tensorboard_log_dir:Path\n",
    "    checkpoint_model_path: Path\n"
   ]
  },
  {
   "cell_type": "code",
   "execution_count": 4,
   "metadata": {},
   "outputs": [],
   "source": [
    "from brain_tumor_classification.utils.common import read_yaml,create_directories\n",
    "from brain_tumor_classification.constants import *\n",
    "\n",
    "class ConfigurationManager:\n",
    "    def __init__(self,config_filepath = CONFIG_FILEPATH,params_filepath = PARAMS_FILEPATH) -> None:\n",
    "        self.config = read_yaml(config_filepath)\n",
    "        self.params = read_yaml(params_filepath)\n",
    "\n",
    "        create_directories([self.config.artifacts_root])\n",
    "    \n",
    "    def get_prepare_callback_config(self) -> PrepareCallbackConfig:\n",
    "        temp_config = self.config.prepare_callbacks\n",
    "\n",
    "        create_directories([temp_config.root_dir])\n",
    "\n",
    "        prepare_callback_config = PrepareCallbackConfig(\n",
    "            root_dir = temp_config.root_dir,\n",
    "            tensorboard_log_dir = temp_config.tensorboard_log_dir,\n",
    "            checkpoint_model_path = temp_config.checkpoint_model_path\n",
    "        )\n",
    "\n",
    "        return prepare_callback_config\n",
    "\n",
    "    def get_model_training_config(self) -> ModelTrainingConfig:\n",
    "        temp_config = self.config.model_training\n",
    "        prepare_base_model = self.config.prepare_base_model\n",
    "        params = self.params\n",
    "        training_data_path = os.path.join(self.config.data_ingestion.unzip_dir,\"brain_tumor_mris\",\"Training\")\n",
    "        validation_data_path = os.path.join(self.config.data_ingestion.unzip_dir,\"brain_tumor_mris\",\"Validation\")\n",
    "\n",
    "        create_directories([temp_config.root_dir])\n",
    "        \n",
    "        model_training_config = ModelTrainingConfig(\n",
    "            root_dir= Path(temp_config.root_dir),\n",
    "            trained_model_path= Path(temp_config.trained_model_path),\n",
    "            updated_base_model= Path(prepare_base_model.updated_base_model_path),\n",
    "            training_data = Path(training_data_path),\n",
    "            validation_data= Path(validation_data_path),\n",
    "            params_is_augmentation= params.AUGMENTATION,\n",
    "            params_image_size= params.IMAGE_SIZE,\n",
    "            params_batch_size= params.BATCH_SIZE,\n",
    "            params_epochs= params.EPOCHS        \n",
    "        )\n",
    "        return model_training_config"
   ]
  },
  {
   "cell_type": "code",
   "execution_count": 5,
   "metadata": {},
   "outputs": [
    {
     "name": "stdout",
     "output_type": "stream",
     "text": [
      "WARNING:tensorflow:From f:\\ml projects\\brain_tumor_classification\\venv\\lib\\site-packages\\keras\\src\\losses.py:2976: The name tf.losses.sparse_softmax_cross_entropy is deprecated. Please use tf.compat.v1.losses.sparse_softmax_cross_entropy instead.\n",
      "\n"
     ]
    }
   ],
   "source": [
    "import tensorflow as tf\n",
    "from datetime import datetime\n",
    "from brain_tumor_classification.utils.exception import CustomException\n",
    "import sys"
   ]
  },
  {
   "cell_type": "code",
   "execution_count": 6,
   "metadata": {},
   "outputs": [],
   "source": [
    "class PrepareCallback:\n",
    "    def __init__(self,config:PrepareCallbackConfig) -> None:\n",
    "        self.config = config\n",
    "\n",
    "    @property\n",
    "    def _create_tensorboard(self):\n",
    "        log_dir_name = f\"TB_LOG_at{datetime.now().strftime('%d_%m_%y_%H_%M_%S')}\"\n",
    "        tensorboard_log_dir = os.path.join(self.config.tensorboard_log_dir,log_dir_name)\n",
    "\n",
    "        return tf.keras.callbacks.TensorBoard(log_dir = tensorboard_log_dir)\n",
    "\n",
    "    @property\n",
    "    def _create_model_callback(self):\n",
    "        return tf.keras.callbacks.ModelCheckpoint(self.config.checkpoint_model_path,save_best_only = True)\n",
    "    \n",
    "    def create_TB_CP(self):\n",
    "        return [self._create_tensorboard,self._create_model_callback]\n",
    "    "
   ]
  },
  {
   "cell_type": "code",
   "execution_count": 7,
   "metadata": {},
   "outputs": [],
   "source": [
    "class ModelTraining:\n",
    "    def __init__(self,config:ModelTrainingConfig) -> None:\n",
    "        self.config = config\n",
    "\n",
    "    def get_base_model(self):\n",
    "        self.model = tf.keras.models.load_model(self.config.updated_base_model)\n",
    "    \n",
    "    def train_valid_generator(self):\n",
    "        try:\n",
    "            if self.config.params_is_augmentation: \n",
    "                train_datagenerator = tf.keras.preprocessing.image.ImageDataGenerator(\n",
    "                    rescale = 1./255,\n",
    "                    shear_range = 0.2,\n",
    "                    zoom_range = 0.2,\n",
    "                    horizontal_flip = True\n",
    "                )\n",
    "                valid_datagenerator = tf.keras.preprocessing.image.ImageDataGenerator(\n",
    "                    rescale = 1./255\n",
    "                )\n",
    "            else:\n",
    "                train_datagenerator = valid_datagenerator = tf.keras.preprocessing.image.ImageDataGenerator(\n",
    "                    rescale = 1./255\n",
    "                )\n",
    "\n",
    "            data_flow_kwargs = dict(\n",
    "                target_size = self.config.params_image_size[:-1],\n",
    "                batch_size = self.config.params_batch_size,\n",
    "                class_mode = 'categorical',\n",
    "            )\n",
    "            self.training_data = train_datagenerator.flow_from_directory(\n",
    "                directory = self.config.training_data,\n",
    "                **data_flow_kwargs\n",
    "            )\n",
    "\n",
    "            self.validation_data = valid_datagenerator.flow_from_directory(\n",
    "                directory = self.config.validation_data,\n",
    "                **data_flow_kwargs\n",
    "            )\n",
    "            \n",
    "        except Exception as e:\n",
    "            raise CustomException(e,sys)\n",
    "\n",
    "    def train_model(self,callbacks_list: list):\n",
    "        self.steps_per_epochs = self.training_data.samples // self.training_data.batch_size\n",
    "        self.validation_steps = self.validation_data.samples //self.validation_data.batch_size \n",
    "\n",
    "        self.model.fit(\n",
    "            self.training_data,\n",
    "            validation_data = self.validation_data,\n",
    "            epochs = self.config.params_epochs,\n",
    "            steps_per_epoch = self.steps_per_epochs,\n",
    "            validation_steps = self.validation_steps,\n",
    "            callbacks = callbacks_list\n",
    "        )\n",
    "\n",
    "        self.model.save(self.config.trained_model_path)"
   ]
  },
  {
   "cell_type": "code",
   "execution_count": null,
   "metadata": {},
   "outputs": [],
   "source": [
    "try:\n",
    "    config = ConfigurationManager()\n",
    "    get_callbacks_config = config.get_prepare_callback_config()\n",
    "    prepare_callbacks = PrepareCallback(config = get_callbacks_config)\n",
    "    callbacks_list =  prepare_callbacks.create_TB_CP()\n",
    "\n",
    "    training_config = config.get_model_training_config()\n",
    "    model_training = ModelTraining(config = training_config)\n",
    "    model_training.get_base_model()\n",
    "    model_training.train_valid_generator()\n",
    "    model_training.train_model(callbacks_list = callbacks_list)\n",
    "except Exception as e:\n",
    "    raise CustomException(e,sys)"
   ]
  },
  {
   "cell_type": "code",
   "execution_count": null,
   "metadata": {},
   "outputs": [],
   "source": []
  },
  {
   "cell_type": "code",
   "execution_count": null,
   "metadata": {},
   "outputs": [],
   "source": []
  },
  {
   "cell_type": "code",
   "execution_count": null,
   "metadata": {},
   "outputs": [],
   "source": []
  }
 ],
 "metadata": {
  "kernelspec": {
   "display_name": "Python 3",
   "language": "python",
   "name": "python3"
  },
  "language_info": {
   "codemirror_mode": {
    "name": "ipython",
    "version": 3
   },
   "file_extension": ".py",
   "mimetype": "text/x-python",
   "name": "python",
   "nbconvert_exporter": "python",
   "pygments_lexer": "ipython3",
   "version": "3.9.18"
  }
 },
 "nbformat": 4,
 "nbformat_minor": 2
}
